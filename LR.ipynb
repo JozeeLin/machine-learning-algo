{
 "cells": [
  {
   "cell_type": "code",
   "execution_count": 15,
   "metadata": {
    "collapsed": true
   },
   "outputs": [],
   "source": [
    "from sklearn.linear_model import LogisticRegression\n",
    "from sklearn import datasets\n",
    "from sklearn.preprocessing import StandardScaler\n",
    "from sklearn.model_selection import train_test_split\n",
    "import numpy as np\n",
    "import matplotlib.pyplot as plt\n",
    "%matplotlib inline"
   ]
  },
  {
   "cell_type": "code",
   "execution_count": 5,
   "metadata": {
    "collapsed": true
   },
   "outputs": [],
   "source": [
    "iris = datasets.load_iris()\n",
    "X = iris.data[:, [2,3]]\n",
    "y = iris.target\n",
    "#划分训练集和测试集\n",
    "X_train, X_test, y_train, y_test = train_test_split(X, y, test_size=0.3, random_state=0)\n",
    "#对训练集和测试集的特征进行缩放\n",
    "sc = StandardScaler()\n",
    "sc.fit(X_train) #学习参数，也就是计算出样本均值和标准差fit\n",
    "X_train_std = sc.transform(X_train) #使用前面计算得到的均值和标准差进行处理transform\n",
    "X_test_std = sc.transform(X_test)"
   ]
  },
  {
   "cell_type": "code",
   "execution_count": 2,
   "metadata": {
    "collapsed": true
   },
   "outputs": [],
   "source": [
    "lr = LogisticRegression(C=1000.0, random_state=0)"
   ]
  },
  {
   "cell_type": "code",
   "execution_count": 8,
   "metadata": {
    "collapsed": false
   },
   "outputs": [
    {
     "name": "stderr",
     "output_type": "stream",
     "text": [
      "/home/parallels/anaconda2/envs/py3/lib/python3.6/site-packages/sklearn/utils/validation.py:395: DeprecationWarning: Passing 1d arrays as data is deprecated in 0.17 and will raise ValueError in 0.19. Reshape your data either using X.reshape(-1, 1) if your data has a single feature or X.reshape(1, -1) if it contains a single sample.\n",
      "  DeprecationWarning)\n"
     ]
    },
    {
     "data": {
      "text/plain": [
       "array([[  2.05743774e-11,   6.31620264e-02,   9.36837974e-01]])"
      ]
     },
     "execution_count": 8,
     "metadata": {},
     "output_type": "execute_result"
    }
   ],
   "source": [
    "lr.fit(X_train_std, y_train) #学习参数\n",
    "lr.predict_proba(X_test_std[0,:])"
   ]
  },
  {
   "cell_type": "markdown",
   "metadata": {},
   "source": [
    "上面预计的输出表示，测试样本集中的第一样本属于第一类的概率是0,第二类的概率为0.0631,第三类的概率是0.9368"
   ]
  },
  {
   "cell_type": "code",
   "execution_count": 12,
   "metadata": {
    "collapsed": false
   },
   "outputs": [
    {
     "name": "stdout",
     "output_type": "stream",
     "text": [
      "[array([  6.55979672e-05,   3.27209902e-05]), array([ 0.00065369,  0.00032495]), array([ 0.00631937,  0.00303439]), array([ 0.04881993,  0.01620922]), array([ 0.23882448, -0.06648319]), array([ 1.06011115, -0.84154482]), array([ 2.19190886, -1.98265142]), array([ 2.50582212, -2.30336729]), array([ 2.54373335, -2.3421979 ]), array([ 2.54760621, -2.34616582])]\n",
      "[1.0000000000000001e-05, 0.0001, 0.001, 0.01, 0.10000000000000001, 1, 10, 100, 1000, 10000]\n"
     ]
    }
   ],
   "source": [
    "weights, params = [], []\n",
    "for c in np.arange(-5, 5):\n",
    "    lr = LogisticRegression(C=10**c, random_state=0)\n",
    "    lr.fit(X_train_std, y_train)\n",
    "    weights.append(lr.coef_[1])\n",
    "    params.append(10**c)\n",
    "print(weights)\n",
    "print(params)"
   ]
  },
  {
   "cell_type": "code",
   "execution_count": 13,
   "metadata": {
    "collapsed": false
   },
   "outputs": [
    {
     "data": {
      "text/plain": [
       "array([[  6.55979672e-05,   3.27209902e-05],\n",
       "       [  6.53690140e-04,   3.24948619e-04],\n",
       "       [  6.31936684e-03,   3.03439293e-03],\n",
       "       [  4.88199280e-02,   1.62092216e-02],\n",
       "       [  2.38824476e-01,  -6.64831864e-02],\n",
       "       [  1.06011115e+00,  -8.41544819e-01],\n",
       "       [  2.19190886e+00,  -1.98265142e+00],\n",
       "       [  2.50582212e+00,  -2.30336729e+00],\n",
       "       [  2.54373335e+00,  -2.34219790e+00],\n",
       "       [  2.54760621e+00,  -2.34616582e+00]])"
      ]
     },
     "execution_count": 13,
     "metadata": {},
     "output_type": "execute_result"
    }
   ],
   "source": [
    "weights = np.array(weights)\n",
    "weights"
   ]
  },
  {
   "cell_type": "code",
   "execution_count": 20,
   "metadata": {
    "collapsed": false
   },
   "outputs": [
    {
     "data": {
      "image/png": "[encoded data removed]",
      "text/plain": [
       "<matplotlib.figure.Figure at 0x7f47ac7a34e0>"
      ]
     },
     "metadata": {},
     "output_type": "display_data"
    }
   ],
   "source": [
    "plt.plot(params, weights[:,0], label='petal length')\n",
    "plt.plot(params, weights[:,1], label='petal width')\n",
    "plt.ylabel('weight coefficient')\n",
    "plt.xlabel('c')\n",
    "plt.legend(loc='upper left')\n",
    "plt.xscale('log')\n",
    "plt.show()"
   ]
  },
  {
   "cell_type": "code",
   "execution_count": null,
   "metadata": {
    "collapsed": true
   },
   "outputs": [],
   "source": []
  }
 ],
 "metadata": {
  "kernelspec": {
   "display_name": "Python 3",
   "language": "python",
   "name": "python3"
  },
  "language_info": {
   "codemirror_mode": {
    "name": "ipython",
    "version": 3
   },
   "file_extension": ".py",
   "mimetype": "text/x-python",
   "name": "python",
   "nbconvert_exporter": "python",
   "pygments_lexer": "ipython3",
   "version": "3.6.0"
  }
 },
 "nbformat": 4,
 "nbformat_minor": 2
}
