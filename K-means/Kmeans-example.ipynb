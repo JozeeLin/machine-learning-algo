{
 "cells": [
  {
   "cell_type": "code",
   "execution_count": 1,
   "metadata": {
    "collapsed": true
   },
   "outputs": [],
   "source": [
    "import numpy as np\n",
    "import matplotlib.pyplot as plt\n",
    "from sklearn.cluster import KMeans\n",
    "from scipy import io as spio\n",
    "from MyKmeans import MyKmeans\n",
    "import urllib\n",
    "import json\n",
    "from time import sleep\n",
    "%matplotlib inline"
   ]
  },
  {
   "cell_type": "code",
   "execution_count": 2,
   "metadata": {
    "collapsed": true
   },
   "outputs": [],
   "source": [
    "def loadDataSet(fileName):    # 通用函数，用来解析以 tab 键分隔的 floats（浮点数）\n",
    "    dataMat = []\n",
    "    fr = open(fileName)\n",
    "    for line in fr.readlines():\n",
    "        curLine = line.strip().split('\\t')\n",
    "        fltLine = map(float,curLine)    # 映射所有的元素为 float（浮点数）类型\n",
    "        dataMat.append(fltLine)\n",
    "    return dataMat"
   ]
  },
  {
   "cell_type": "code",
   "execution_count": 3,
   "metadata": {
    "collapsed": true
   },
   "outputs": [],
   "source": [
    "X = np.mat(loadDataSet('data/testSet.txt'))"
   ]
  },
  {
   "cell_type": "code",
   "execution_count": 4,
   "metadata": {},
   "outputs": [
    {
     "data": {
      "image/png": "[encoded data removed]",
      "text/plain": [
       "<matplotlib.figure.Figure at 0x7fa7cb4f2510>"
      ]
     },
     "metadata": {},
     "output_type": "display_data"
    }
   ],
   "source": [
    "plt.scatter(X[:,0].A,X[:,1].A)\n",
    "plt.show()"
   ]
  },
  {
   "cell_type": "code",
   "execution_count": 5,
   "metadata": {
    "collapsed": true
   },
   "outputs": [],
   "source": [
    "km = MyKmeans(4).fit(X)"
   ]
  },
  {
   "cell_type": "code",
   "execution_count": 6,
   "metadata": {},
   "outputs": [
    {
     "data": {
      "text/plain": [
       "array([ 2.,  3.,  0.,  1.,  2.,  3.,  0.,  1.,  2.,  3.,  0.,  1.,  2.,\n",
       "        3.,  0.,  0.,  2.,  3.,  0.,  1.,  2.,  3.,  0.,  1.,  2.,  3.,\n",
       "        0.,  1.,  2.,  3.,  0.,  1.,  2.,  3.,  0.,  1.,  2.,  3.,  0.,\n",
       "        1.,  2.,  3.,  0.,  1.,  2.,  3.,  0.,  1.,  2.,  3.,  0.,  1.,\n",
       "        2.,  3.,  0.,  1.,  2.,  3.,  0.,  1.,  2.,  3.,  0.,  1.,  2.,\n",
       "        3.,  0.,  1.,  2.,  3.,  0.,  1.,  2.,  3.,  0.,  1.,  2.,  3.,\n",
       "        0.,  1.])"
      ]
     },
     "execution_count": 6,
     "metadata": {},
     "output_type": "execute_result"
    }
   ],
   "source": [
    "km.labels_"
   ]
  },
  {
   "cell_type": "code",
   "execution_count": 7,
   "metadata": {},
   "outputs": [
    {
     "data": {
      "image/png": "[encoded data removed]",
      "text/plain": [
       "<matplotlib.figure.Figure at 0x7fa7c81d2790>"
      ]
     },
     "metadata": {},
     "output_type": "display_data"
    }
   ],
   "source": [
    "plt.scatter(X[km.labels_==0][:,0].A, X[km.labels_==0][:,1].A, color='r')\n",
    "plt.scatter(X[km.labels_==1][:,0].A, X[km.labels_==1][:,1].A, color='g')\n",
    "plt.scatter(X[km.labels_==2][:,0].A, X[km.labels_==2][:,1].A, color='b')\n",
    "plt.scatter(X[km.labels_==3][:,0].A, X[km.labels_==3][:,1].A, color='gray')\n",
    "plt.show()"
   ]
  },
  {
   "cell_type": "markdown",
   "metadata": {},
   "source": [
    "## 使用后处理来提高聚类性能\n",
    "### 二分K均值算法"
   ]
  },
  {
   "cell_type": "code",
   "execution_count": 3,
   "metadata": {
    "collapsed": true
   },
   "outputs": [],
   "source": [
    "X = np.mat(loadDataSet('data/testSet2.txt'))"
   ]
  },
  {
   "cell_type": "code",
   "execution_count": 4,
   "metadata": {},
   "outputs": [
    {
     "data": {
      "text/plain": [
       "matrix([[ 3.275154,  2.957587],\n",
       "        [-3.344465,  2.603513],\n",
       "        [ 0.355083, -3.376585]])"
      ]
     },
     "execution_count": 4,
     "metadata": {},
     "output_type": "execute_result"
    }
   ],
   "source": [
    "X[:3]"
   ]
  },
  {
   "cell_type": "code",
   "execution_count": 5,
   "metadata": {},
   "outputs": [
    {
     "data": {
      "image/png": "[encoded data removed]",
      "text/plain": [
       "<matplotlib.figure.Figure at 0x7f0b153514d0>"
      ]
     },
     "metadata": {},
     "output_type": "display_data"
    }
   ],
   "source": [
    "plt.scatter(X[:,0].A,X[:,1].A)\n",
    "plt.show()"
   ]
  },
  {
   "cell_type": "code",
   "execution_count": 6,
   "metadata": {},
   "outputs": [
    {
     "name": "stdout",
     "output_type": "stream",
     "text": [
      "('sseSplit, and notSplit: ', 570.72275742467548, 0.0)\n",
      "('the bestCentToSplit is: ', 0)\n",
      "('the len of bestClustAss is: ', 60)\n",
      "('sseSplit, and notSplit: ', 22.971771896318412, 532.65980678901781)\n",
      "('sseSplit, and notSplit: ', 68.68654812621844, 38.062950635657558)\n",
      "('the bestCentToSplit is: ', 1)\n",
      "('the len of bestClustAss is: ', 40)\n"
     ]
    }
   ],
   "source": [
    "km = MyKmeans(3).fit_bi(X)"
   ]
  },
  {
   "cell_type": "code",
   "execution_count": 7,
   "metadata": {},
   "outputs": [
    {
     "data": {
      "text/plain": [
       "array([ 1.,  0.,  2.,  1.,  0.,  2.,  1.,  0.,  2.,  1.,  0.,  2.,  1.,\n",
       "        0.,  2.,  1.,  0.,  2.,  1.,  0.,  2.,  1.,  0.,  2.,  1.,  0.,\n",
       "        2.,  1.,  0.,  2.,  1.,  0.,  2.,  1.,  0.,  2.,  1.,  0.,  2.,\n",
       "        1.,  0.,  2.,  1.,  0.,  2.,  1.,  0.,  2.,  1.,  0.,  2.,  1.,\n",
       "        0.,  2.,  1.,  0.,  2.,  1.,  0.,  2.])"
      ]
     },
     "execution_count": 7,
     "metadata": {},
     "output_type": "execute_result"
    }
   ],
   "source": [
    "km.labels_"
   ]
  },
  {
   "cell_type": "code",
   "execution_count": 8,
   "metadata": {},
   "outputs": [
    {
     "data": {
      "image/png": "[encoded data removed]",
      "text/plain": [
       "<matplotlib.figure.Figure at 0x7f0b11f40310>"
      ]
     },
     "metadata": {},
     "output_type": "display_data"
    }
   ],
   "source": [
    "plt.scatter(X[km.labels_==0][:,0].A, X[km.labels_==0][:,1].A, color='r')\n",
    "plt.scatter(X[km.labels_==1][:,0].A, X[km.labels_==1][:,1].A, color='g')\n",
    "plt.scatter(X[km.labels_==2][:,0].A, X[km.labels_==2][:,1].A, color='b')\n",
    "plt.show()"
   ]
  },
  {
   "cell_type": "code",
   "execution_count": 9,
   "metadata": {
    "collapsed": true
   },
   "outputs": [],
   "source": [
    "data = spio.loadmat(\"data/data.mat\")\n",
    "X = data['X']\n",
    "K = 3"
   ]
  },
  {
   "cell_type": "code",
   "execution_count": 10,
   "metadata": {},
   "outputs": [
    {
     "name": "stdout",
     "output_type": "stream",
     "text": [
      "('sseSplit, and notSplit: ', 913.31927147470913, 0.0)\n",
      "('the bestCentToSplit is: ', 0)\n",
      "('the len of bestClustAss is: ', 300)\n",
      "('sseSplit, and notSplit: ', 44.406325899270563, 813.05464650799229)\n",
      "('sseSplit, and notSplit: ', 167.47462760734891, 100.26462496671674)\n",
      "('the bestCentToSplit is: ', 1)\n",
      "('the len of bestClustAss is: ', 201)\n"
     ]
    }
   ],
   "source": [
    "km = MyKmeans(3).fit_bi(X)"
   ]
  },
  {
   "cell_type": "code",
   "execution_count": 11,
   "metadata": {},
   "outputs": [
    {
     "name": "stdout",
     "output_type": "stream",
     "text": [
      "[matrix([[ 1.98363152,  5.03043004]]), matrix([[ 6.04523932,  2.97521013]]), matrix([[ 3.04367119,  1.01541041]])]\n"
     ]
    }
   ],
   "source": [
    "print(km.cluster_centers_)"
   ]
  },
  {
   "cell_type": "code",
   "execution_count": 19,
   "metadata": {},
   "outputs": [
    {
     "data": {
      "image/png": "[encoded data removed]",
      "text/plain": [
       "<matplotlib.figure.Figure at 0x7f0b11cd6150>"
      ]
     },
     "metadata": {},
     "output_type": "display_data"
    }
   ],
   "source": [
    "plt.scatter(X[km.labels_==0][:,0], X[km.labels_==0][:,1], color='g')\n",
    "plt.scatter(X[km.labels_==1][:,0], X[km.labels_==1][:,1], color='b')\n",
    "plt.scatter(X[km.labels_==2][:,0], X[km.labels_==2][:,1], color='r')\n",
    "plt.show()"
   ]
  },
  {
   "cell_type": "markdown",
   "metadata": {},
   "source": [
    "## 使用sklean来进行K均值算法学习"
   ]
  },
  {
   "cell_type": "code",
   "execution_count": 15,
   "metadata": {
    "collapsed": true
   },
   "outputs": [],
   "source": [
    "data = spio.loadmat(\"data/data.mat\")\n",
    "X = data['X']\n",
    "K = 3"
   ]
  },
  {
   "cell_type": "code",
   "execution_count": 16,
   "metadata": {
    "collapsed": true
   },
   "outputs": [],
   "source": [
    "model = KMeans(n_clusters=3).fit(X)"
   ]
  },
  {
   "cell_type": "code",
   "execution_count": 17,
   "metadata": {},
   "outputs": [
    {
     "name": "stdout",
     "output_type": "stream",
     "text": [
      "[[ 3.04367119  1.01541041]\n",
      " [ 6.03366736  3.00052511]\n",
      " [ 1.95399466  5.02557006]]\n"
     ]
    }
   ],
   "source": [
    "print(model.cluster_centers_)"
   ]
  },
  {
   "cell_type": "code",
   "execution_count": 18,
   "metadata": {},
   "outputs": [
    {
     "data": {
      "image/png": "[encoded data removed]",
      "text/plain": [
       "<matplotlib.figure.Figure at 0x7f0b11fa3590>"
      ]
     },
     "metadata": {},
     "output_type": "display_data"
    }
   ],
   "source": [
    "plt.scatter(X[model.labels_==0][:,0], X[model.labels_==0][:,1], color='r')\n",
    "plt.scatter(X[model.labels_==1][:,0], X[model.labels_==1][:,1], color='b')\n",
    "plt.scatter(X[model.labels_==2][:,0], X[model.labels_==2][:,1], color='g')\n",
    "plt.show()"
   ]
  },
  {
   "cell_type": "code",
   "execution_count": null,
   "metadata": {
    "collapsed": true
   },
   "outputs": [],
   "source": []
  }
 ],
 "metadata": {
  "kernelspec": {
   "display_name": "Python 2",
   "language": "python",
   "name": "python2"
  },
  "language_info": {
   "codemirror_mode": {
    "name": "ipython",
    "version": 2
   },
   "file_extension": ".py",
   "mimetype": "text/x-python",
   "name": "python",
   "nbconvert_exporter": "python",
   "pygments_lexer": "ipython2",
   "version": "2.7.13"
  }
 },
 "nbformat": 4,
 "nbformat_minor": 2
}
