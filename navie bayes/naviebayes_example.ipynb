{
 "cells": [
  {
   "cell_type": "code",
   "execution_count": 1,
   "metadata": {
    "collapsed": true
   },
   "outputs": [],
   "source": [
    "import numpy as np\n",
    "import pandas as pd\n",
    "import feedparser\n",
    "from MyNaviebayes import MyNavieBayes\n",
    "import re\n",
    "import operator"
   ]
  },
  {
   "cell_type": "markdown",
   "metadata": {},
   "source": [
    "## 词集模型，使用朴素贝叶斯模型进行学习和预测"
   ]
  },
  {
   "cell_type": "code",
   "execution_count": 2,
   "metadata": {
    "collapsed": true
   },
   "outputs": [],
   "source": [
    "#postingList中每个一维列表表示一个文档，通过对文档进行分词得到的单词列表；\n",
    "#classVec用于表示每个文档的标签，比如文档表示一条评论，那么标签为1就是表示差评，为0表示好评\n",
    "postingList = [['my', 'dog', 'has', 'fea','problems', 'help', 'please'],\n",
    "              ['maybe', 'not', 'take', 'him', 'to','dog','park','stupid'],\n",
    "              ['my', 'dalmation', 'is', 'so', 'cute', 'I', 'love','him'],\n",
    "              ['stop', 'posting', 'stupid', 'worthless', 'garbage'],\n",
    "              ['mr', 'licks', 'ate', 'my', 'steak', 'how', 'to', 'stop', 'him'],\n",
    "               ['quit', 'buying', 'worthless', 'dog', 'food', 'stupid']]\n",
    "classVec=[0, 1, 0, 1, 0, 1] #1表示侮辱性单词"
   ]
  },
  {
   "cell_type": "code",
   "execution_count": 3,
   "metadata": {
    "collapsed": true
   },
   "outputs": [],
   "source": [
    "#对输入的所有单词列表进行合并去重，得到一个单词词典\n",
    "def createVocabList(dataset):\n",
    "    \"\"\"\n",
    "    创建一个包含所有文档中的不重复词列表\n",
    "    \"\"\"\n",
    "    vocabSet = set([]) #创建一个空集\n",
    "    for document in dataset:\n",
    "        vocabSet = vocabSet | set(document) #求并集\n",
    "    return list(vocabSet)"
   ]
  },
  {
   "cell_type": "code",
   "execution_count": 4,
   "metadata": {
    "collapsed": true
   },
   "outputs": [],
   "source": [
    "#把原始的单词列表，变成只含有0,1的新列表；\n",
    "#新列表中的0表示对应于单词词典中的单词在原始单词列表中不存在，1表示对应于单词词典中的单词在原始单词列表中存在\n",
    "def setOfWords2Vec(vocabList, inputSet):\n",
    "    \"\"\"\n",
    "    此模型为词集模型，即只考虑单词存在与否的情况，不忽略了单词出现的频率信息\n",
    "    输入:词汇表和单个文档特征\n",
    "    返回:文档向量\n",
    "    \"\"\"\n",
    "    returnVec = [0]*len(vocabList) #创建一个所有元素为0的数组\n",
    "    for word in inputSet:\n",
    "        if word in vocabList:\n",
    "            returnVec[vocabList.index(word)] = 1\n",
    "        else:\n",
    "            print('the word: %s is not in my Vocabulary!' % word)\n",
    "    return returnVec #返回新列表，这是最终传递给朴素贝叶斯模型的输入特征向量"
   ]
  },
  {
   "cell_type": "code",
   "execution_count": 5,
   "metadata": {
    "collapsed": true
   },
   "outputs": [],
   "source": [
    "#测试创建的朴素贝叶斯模型，即使用学习好的贝叶斯模型进行预测\n",
    "def testingNB(NBmodel,X,y):\n",
    "    myVocabList = createVocabList(X)\n",
    "    trainMat = []\n",
    "    for postinDoc in X:\n",
    "         trainMat.append(setOfWords2Vec(myVocabList, postinDoc))\n",
    "\n",
    "    #模型学习\n",
    "    p0V, p1V, pAb = NBmodel.fit(np.array(trainMat), np.array(y))\n",
    "    #使用学习好的模型进行测试\n",
    "    testEntry = ['love', 'my', 'dalmation']\n",
    "    thisDoc = np.array(setOfWords2Vec(myVocabList, testEntry))\n",
    "    print(testEntry, 'classified as: ', NBmodel.predict(thisDoc, p0V, p1V, pAb))\n",
    "    testEntry = ['stupid', 'garbage']\n",
    "    thisDoc = np.array(setOfWords2Vec(myVocabList, testEntry))\n",
    "    print(testEntry, 'classified as: ', NBmodel.predict(thisDoc, p0V, p1V, pAb))"
   ]
  },
  {
   "cell_type": "code",
   "execution_count": 6,
   "metadata": {},
   "outputs": [
    {
     "name": "stdout",
     "output_type": "stream",
     "text": [
      "(['love', 'my', 'dalmation'], 'classified as: ', 0)\n",
      "(['stupid', 'garbage'], 'classified as: ', 1)\n"
     ]
    }
   ],
   "source": [
    "nb = MyNavieBayes()\n",
    "testingNB(nb, postingList, classVec)"
   ]
  },
  {
   "cell_type": "markdown",
   "metadata": {},
   "source": [
    "## 词袋模型，使用朴素贝叶斯模型进行学习和预测"
   ]
  },
  {
   "cell_type": "code",
   "execution_count": 7,
   "metadata": {
    "collapsed": true
   },
   "outputs": [],
   "source": [
    "\n",
    "def bagOfWords2VecMN(vocabList, inputSet):\n",
    "    \"\"\"\n",
    "    词袋模型,考虑原始单词列表中单词出现的频率，如果不存在该单词，出现频率为0\n",
    "    \"\"\"\n",
    "    returnVec = [0]*len(vocabList)\n",
    "    for word in inputSet:\n",
    "        if word in vocabList:\n",
    "            returnVec[vocabList.index(word)] += 1\n",
    "    return returnVec #这是最终传递给朴素贝叶斯模型的输入特征向量"
   ]
  },
  {
   "cell_type": "code",
   "execution_count": 8,
   "metadata": {
    "collapsed": true
   },
   "outputs": [],
   "source": [
    "def calcMostFreq(vocabList, fullText):\n",
    "    \"\"\"\n",
    "    统计fullText单词列表中，包含的vocabList单词对应的出现次数问多少\n",
    "    等同于bagOfWords2VecMN函数\n",
    "    \"\"\"\n",
    "    freqDict = {}\n",
    "    for token in vocabList:\n",
    "        freqDict[token] = fullText.count(token)\n",
    "    sortedFreq = sorted(freqDict.iteritems(), key=operator.itemgetter(1), reverse=True)\n",
    "    return sortedFreq[:100] #返回出现频率最高的前100个词"
   ]
  },
  {
   "cell_type": "code",
   "execution_count": 9,
   "metadata": {
    "collapsed": true
   },
   "outputs": [],
   "source": [
    "#简单的句子（文档）分词函数\n",
    "def textParse(bigString):\n",
    "    listOfTokens = re.split(r'\\W', bigString)\n",
    "    return [tok.lower() for tok in listOfTokens if len(tok)>2]"
   ]
  },
  {
   "cell_type": "code",
   "execution_count": 10,
   "metadata": {
    "collapsed": true
   },
   "outputs": [],
   "source": [
    "def localWords(NBmodel, feed1, feed0):\n",
    "    docList = []\n",
    "    classList = []\n",
    "    fullText = []\n",
    "    minLen = min(len(feed1['entries']), len(feed0['entries']))\n",
    "    for i in range(minLen):\n",
    "        wordList = textParse(feed1['entries'][i]['summary']) #每次访问一条RSS源\n",
    "        docList.append(wordList)\n",
    "        fullText.extend(wordList)\n",
    "        classList.append(1)\n",
    "        wordList = textParse(feed0['entries'][i]['summary'])\n",
    "        docList.append(wordList)\n",
    "        fullText.extend(wordList)\n",
    "        classList.append(0)\n",
    "    vocabList = createVocabList(docList) #生成单词词典\n",
    "    top100Words = calcMostFreq(vocabList, fullText) #返回前100的高频词，高频词通常是那些结构词，比如the，and，a 等等\n",
    "    for pairW in top100Words: #(单词，出现次数)\n",
    "        if pairW[0] in vocabList: vocabList.remove(pairW[0])#删掉高频词\n",
    "            \n",
    "    #分别保存训练集和测试集的数据索引\n",
    "    trainingSet = range(2*minLen)\n",
    "    testSet = []\n",
    "    #随机从训练集中选出20个样本作为测试集，剩余的作为训练集\n",
    "    for i in range(20):\n",
    "        randIndex = int(np.random.uniform(0, len(trainingSet)))\n",
    "        testSet.append(trainingSet[randIndex])\n",
    "        del(trainingSet[randIndex])\n",
    "    #根据数据索引把数据集分成训练集和测试集\n",
    "    trainMat = []\n",
    "    trainClasses = []\n",
    "    for docIndex in trainingSet:\n",
    "        trainMat.append(bagOfWords2VecMN(vocabList, docList[docIndex]))\n",
    "        trainClasses.append(classList[docIndex])\n",
    "    #开始使用朴素贝叶斯模型进行学习\n",
    "    p0V, p1V, pSpam = NBmodel.fit(np.array(trainMat), np.array(trainClasses))\n",
    "    errorCount = 0\n",
    "    for docIndex in testSet:\n",
    "        wordVector = bagOfWords2VecMN(vocabList, docList[docIndex])\n",
    "        if NBmodel.predict(np.array(wordVector), p0V, p1V, pSpam) != classList[docIndex]:\n",
    "            errorCount += 1\n",
    "    print 'the error rate is: ', float(errorCount)/len(testSet)\n",
    "    return vocabList, p0V, p1V"
   ]
  },
  {
   "cell_type": "code",
   "execution_count": 11,
   "metadata": {
    "collapsed": true
   },
   "outputs": [],
   "source": [
    "def getTopWords(self, ny, sf):\n",
    "    vocabList, p0V, p1V = self.localWords(ny, sf)\n",
    "    topNY = []\n",
    "    topSF = []\n",
    "    for i in range(len(p0V)):\n",
    "        if p0V[i] > -6.0: topSF.append((vocabList[i], p0V[i]))\n",
    "        if p1V[i] > -6.0: topNY.append((vocabList[i], p1V[i]))\n",
    "    sortedSF = sorted(topSF, key=lambda pair: pair[1], reverse=True)\n",
    "    print(\"SF**SF**SF**SF**SF**SF**SF**SF**SF**\")\n",
    "    for item in sortedSF:\n",
    "        print(item[0])\n",
    "    sortedNY = sorted(topNY, key=lambda pair: pair[1], reverse=True)\n",
    "    print(\"NY**NY**NY**NY**NY**NY**NY**NY**NY**\")\n",
    "    for item in sortedNY:\n",
    "        print(item[0])"
   ]
  },
  {
   "cell_type": "code",
   "execution_count": 12,
   "metadata": {
    "collapsed": true
   },
   "outputs": [],
   "source": [
    "ny = feedparser.parse('http://newyork.craigslist.org/stp/index.rss')"
   ]
  },
  {
   "cell_type": "code",
   "execution_count": 13,
   "metadata": {
    "collapsed": true
   },
   "outputs": [],
   "source": [
    "sf = feedparser.parse('http://sfbay.craigslist.org/stp/index.rss')"
   ]
  },
  {
   "cell_type": "code",
   "execution_count": 14,
   "metadata": {},
   "outputs": [
    {
     "name": "stdout",
     "output_type": "stream",
     "text": [
      "the error rate is:  0.3\n"
     ]
    }
   ],
   "source": [
    "nb = MyNavieBayes()\n",
    "vocabList, pSF, pNY =localWords(nb, ny, sf)"
   ]
  },
  {
   "cell_type": "code",
   "execution_count": null,
   "metadata": {
    "collapsed": true
   },
   "outputs": [],
   "source": []
  }
 ],
 "metadata": {
  "kernelspec": {
   "display_name": "Python 2",
   "language": "python",
   "name": "python2"
  },
  "language_info": {
   "codemirror_mode": {
    "name": "ipython",
    "version": 2
   },
   "file_extension": ".py",
   "mimetype": "text/x-python",
   "name": "python",
   "nbconvert_exporter": "python",
   "pygments_lexer": "ipython2",
   "version": "2.7.13"
  }
 },
 "nbformat": 4,
 "nbformat_minor": 2
}
