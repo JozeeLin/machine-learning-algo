{
 "cells": [
  {
   "cell_type": "code",
   "execution_count": 1,
   "metadata": {
    "collapsed": true
   },
   "outputs": [],
   "source": [
    "import numpy as np\n",
    "import pandas as pd\n",
    "import matplotlib.pyplot as plt\n",
    "from MyLogisticRegression import myLogisticRegression\n",
    "from sklearn import datasets\n",
    "from sklearn.preprocessing import StandardScaler\n",
    "from sklearn.model_selection import train_test_split\n",
    "from sklearn.linear_model import LogisticRegression\n",
    "%matplotlib inline"
   ]
  },
  {
   "cell_type": "code",
   "execution_count": 2,
   "metadata": {},
   "outputs": [
    {
     "data": {
      "text/html": [
       "<div>\n",
       "<table border=\"1\" class=\"dataframe\">\n",
       "  <thead>\n",
       "    <tr style=\"text-align: right;\">\n",
       "      <th></th>\n",
       "      <th>0</th>\n",
       "      <th>1</th>\n",
       "      <th>2</th>\n",
       "      <th>3</th>\n",
       "      <th>4</th>\n",
       "    </tr>\n",
       "  </thead>\n",
       "  <tbody>\n",
       "    <tr>\n",
       "      <th>145</th>\n",
       "      <td>6.7</td>\n",
       "      <td>3.0</td>\n",
       "      <td>5.2</td>\n",
       "      <td>2.3</td>\n",
       "      <td>Iris-virginica</td>\n",
       "    </tr>\n",
       "    <tr>\n",
       "      <th>146</th>\n",
       "      <td>6.3</td>\n",
       "      <td>2.5</td>\n",
       "      <td>5.0</td>\n",
       "      <td>1.9</td>\n",
       "      <td>Iris-virginica</td>\n",
       "    </tr>\n",
       "    <tr>\n",
       "      <th>147</th>\n",
       "      <td>6.5</td>\n",
       "      <td>3.0</td>\n",
       "      <td>5.2</td>\n",
       "      <td>2.0</td>\n",
       "      <td>Iris-virginica</td>\n",
       "    </tr>\n",
       "    <tr>\n",
       "      <th>148</th>\n",
       "      <td>6.2</td>\n",
       "      <td>3.4</td>\n",
       "      <td>5.4</td>\n",
       "      <td>2.3</td>\n",
       "      <td>Iris-virginica</td>\n",
       "    </tr>\n",
       "    <tr>\n",
       "      <th>149</th>\n",
       "      <td>5.9</td>\n",
       "      <td>3.0</td>\n",
       "      <td>5.1</td>\n",
       "      <td>1.8</td>\n",
       "      <td>Iris-virginica</td>\n",
       "    </tr>\n",
       "  </tbody>\n",
       "</table>\n",
       "</div>"
      ],
      "text/plain": [
       "       0    1    2    3               4\n",
       "145  6.7  3.0  5.2  2.3  Iris-virginica\n",
       "146  6.3  2.5  5.0  1.9  Iris-virginica\n",
       "147  6.5  3.0  5.2  2.0  Iris-virginica\n",
       "148  6.2  3.4  5.4  2.3  Iris-virginica\n",
       "149  5.9  3.0  5.1  1.8  Iris-virginica"
      ]
     },
     "execution_count": 2,
     "metadata": {},
     "output_type": "execute_result"
    }
   ],
   "source": [
    "df = pd.read_csv('http://archive.ics.uci.edu/ml/machine-learning-databases/iris/iris.data', header=None)\n",
    "df.tail()"
   ]
  },
  {
   "cell_type": "code",
   "execution_count": 3,
   "metadata": {},
   "outputs": [
    {
     "data": {
      "image/png": "[encoded data removed]",
      "text/plain": [
       "<matplotlib.figure.Figure at 0x7f7372fe80b8>"
      ]
     },
     "metadata": {},
     "output_type": "display_data"
    }
   ],
   "source": [
    "y = df.iloc[0:100, 4].values\n",
    "y = np.where(y=='Iris-setosa', -1, 1)\n",
    "X = df.iloc[0:100,[0,2]].values\n",
    "plt.scatter(X[:50,0],X[:50,1], color='red',marker='o',label='setosa')\n",
    "plt.scatter(X[50:100,0],X[50:100,1], color='blue',marker='x',label='versicolor')\n",
    "plt.xlabel('petal length')\n",
    "plt.ylabel('sepal length')\n",
    "plt.legend(loc='upper left')\n",
    "plt.show()"
   ]
  },
  {
   "cell_type": "code",
   "execution_count": 4,
   "metadata": {
    "collapsed": true
   },
   "outputs": [],
   "source": [
    "y[y==-1] = 0\n",
    "lr = myLogisticRegression(eta=0.01, n_iter=500).fit(X, y)\n",
    "y_pred = lr.predict(X)\n",
    "print(\"miss classify count: %d\" % (y!=y_pred).sum())"
   ]
  },
  {
   "cell_type": "code",
   "execution_count": 14,
   "metadata": {},
   "outputs": [
    {
     "name": "stdout",
     "output_type": "stream",
     "text": [
      "[ 1.02207976  0.38994839 -1.17934052]\n"
     ]
    }
   ],
   "source": [
    "print(lr.w_)"
   ]
  },
  {
   "cell_type": "markdown",
   "metadata": {},
   "source": [
    "## sklearn 中的逻辑回归"
   ]
  },
  {
   "cell_type": "code",
   "execution_count": null,
   "metadata": {
    "collapsed": true
   },
   "outputs": [],
   "source": [
    "iris = datasets.load_iris()\n",
    "X = iris.data[:, [2,3]]\n",
    "y = iris.target\n",
    "#划分训练集和测试集\n",
    "X_train, X_test, y_train, y_test = train_test_split(X, y, test_size=0.3, random_state=0)\n",
    "#对训练集和测试集的特征进行缩放\n",
    "sc = StandardScaler()\n",
    "sc.fit(X_train) #学习参数，也就是计算出样本均值和标准差fit\n",
    "X_train_std = sc.transform(X_train) #使用前面计算得到的均值和标准差进行处理transform\n",
    "X_test_std = sc.transform(X_test)"
   ]
  },
  {
   "cell_type": "code",
   "execution_count": null,
   "metadata": {
    "collapsed": true
   },
   "outputs": [],
   "source": [
    "lr = LogisticRegression(C=1000.0, random_state=0)\n",
    "lr.fit(X_train_std, y_train) #学习参数\n",
    "lr.predict_proba(X_test_std[0,:])"
   ]
  },
  {
   "cell_type": "code",
   "execution_count": null,
   "metadata": {
    "collapsed": true
   },
   "outputs": [],
   "source": [
    "weights, params = [], []\n",
    "for c in np.arange(-5, 5):\n",
    "    lr = LogisticRegression(C=10**c, random_state=0)\n",
    "    lr.fit(X_train_std, y_train)\n",
    "    weights.append(lr.coef_[1])\n",
    "    params.append(10**c)\n",
    "print(weights)\n",
    "print(params)"
   ]
  },
  {
   "cell_type": "code",
   "execution_count": null,
   "metadata": {
    "collapsed": true
   },
   "outputs": [],
   "source": [
    "plt.plot(params, weights[:,0], label='petal length')\n",
    "plt.plot(params, weights[:,1], label='petal width')\n",
    "plt.ylabel('weight coefficient')\n",
    "plt.xlabel('c')\n",
    "plt.legend(loc='upper left')\n",
    "plt.xscale('log')\n",
    "plt.show()"
   ]
  },
  {
   "cell_type": "markdown",
   "metadata": {},
   "source": [
    "## 使用Logistic Regression来进行多分类处理"
   ]
  },
  {
   "cell_type": "code",
   "execution_count": 2,
   "metadata": {
    "collapsed": true
   },
   "outputs": [],
   "source": [
    "import scipy.io as spio"
   ]
  },
  {
   "cell_type": "code",
   "execution_count": 3,
   "metadata": {
    "collapsed": true
   },
   "outputs": [],
   "source": [
    "data = spio.loadmat('data/data_digits.mat')"
   ]
  },
  {
   "cell_type": "code",
   "execution_count": 4,
   "metadata": {
    "collapsed": true
   },
   "outputs": [],
   "source": [
    "X = data['X']\n",
    "y = data['y']"
   ]
  },
  {
   "cell_type": "code",
   "execution_count": 5,
   "metadata": {
    "collapsed": true
   },
   "outputs": [],
   "source": [
    "y = y.ravel()"
   ]
  },
  {
   "cell_type": "code",
   "execution_count": 6,
   "metadata": {
    "collapsed": true
   },
   "outputs": [],
   "source": [
    "m,n = X.shape\n",
    "rand_indices = [t for t in [np.random.randint(x-x, m) for x in range(100)]] # 生成100个0-m的随机数"
   ]
  },
  {
   "cell_type": "code",
   "execution_count": 7,
   "metadata": {
    "collapsed": true
   },
   "outputs": [],
   "source": [
    "def display_data(imgData):\n",
    "    sum = 0\n",
    "    '''\n",
    "    显示100个数（若是一个一个绘制将会非常慢，可以将要画的数字整理好，放到一个矩阵中，显示这个矩阵即可）\n",
    "    - 初始化一个二维数组\n",
    "    - 将每行的数据调整成图像的矩阵，放进二维数组\n",
    "    - 显示即可\n",
    "    '''\n",
    "    pad = 1\n",
    "    display_array = -np.ones((pad+10*(20+pad),pad+10*(20+pad)))\n",
    "    for i in range(10):\n",
    "        for j in range(10):\n",
    "            display_array[pad+i*(20+pad):pad+i*(20+pad)+20,pad+j*(20+pad):pad+j*(20+pad)+20] = (imgData[sum,:].reshape(20,20,order=\"F\"))    # order=F指定以列优先，在matlab中是这样的，python中需要指定，默认以行\n",
    "            sum += 1\n",
    "            \n",
    "    plt.imshow(display_array,cmap='gray')   #显示灰度图像\n",
    "    plt.axis('off')\n",
    "    plt.show()"
   ]
  },
  {
   "cell_type": "code",
   "execution_count": 8,
   "metadata": {},
   "outputs": [
    {
     "data": {
      "image/png": "[encoded data removed]",
      "text/plain": [
       "<matplotlib.figure.Figure at 0x7f8964023f10>"
      ]
     },
     "metadata": {},
     "output_type": "display_data"
    }
   ],
   "source": [
    "display_data(X[rand_indices,:])"
   ]
  },
  {
   "cell_type": "code",
   "execution_count": 13,
   "metadata": {},
   "outputs": [
    {
     "name": "stdout",
     "output_type": "stream",
     "text": [
      "预测准确度为：90.180000%\n"
     ]
    }
   ],
   "source": [
    "lr_ovr = myLogisticRegression(eta=0.3, n_iter=400).fit_OvR(X, y)\n",
    "y_pred = lr_ovr.predict_OvR(X)\n",
    "print u\"预测准确度为：%f%%\"%np.mean(np.float64(y_pred == y.reshape(1,-1))*100)"
   ]
  },
  {
   "cell_type": "code",
   "execution_count": 14,
   "metadata": {},
   "outputs": [
    {
     "name": "stdout",
     "output_type": "stream",
     "text": [
      "预测准确度为：88.100000%\n"
     ]
    }
   ],
   "source": [
    "lr_ovr = myLogisticRegression(eta=0.1, n_iter=400).fit_OvR(X, y)\n",
    "y_pred = lr_ovr.predict_OvR(X)\n",
    "print u\"预测准确度为：%f%%\"%np.mean(np.float64(y_pred == y.reshape(1,-1))*100)"
   ]
  },
  {
   "cell_type": "code",
   "execution_count": 15,
   "metadata": {},
   "outputs": [
    {
     "name": "stdout",
     "output_type": "stream",
     "text": [
      "预测准确度为：84.720000%\n"
     ]
    }
   ],
   "source": [
    "lr_ovr = myLogisticRegression(eta=0.03, n_iter=400).fit_OvR(X, y)\n",
    "y_pred = lr_ovr.predict_OvR(X)\n",
    "print u\"预测准确度为：%f%%\"%np.mean(np.float64(y_pred == y.reshape(1,-1))*100)"
   ]
  },
  {
   "cell_type": "code",
   "execution_count": 16,
   "metadata": {},
   "outputs": [
    {
     "name": "stdout",
     "output_type": "stream",
     "text": [
      "预测准确度为：81.840000%\n"
     ]
    }
   ],
   "source": [
    "lr_ovr = myLogisticRegression(eta=0.01, n_iter=400).fit_OvR(X, y)\n",
    "y_pred = lr_ovr.predict_OvR(X)\n",
    "print u\"预测准确度为：%f%%\"%np.mean(np.float64(y_pred == y.reshape(1,-1))*100)"
   ]
  },
  {
   "cell_type": "code",
   "execution_count": 17,
   "metadata": {},
   "outputs": [
    {
     "name": "stdout",
     "output_type": "stream",
     "text": [
      "预测准确度为：91.280000%\n"
     ]
    }
   ],
   "source": [
    "lr_ovr = myLogisticRegression(eta=0.6, n_iter=400).fit_OvR(X, y)\n",
    "y_pred = lr_ovr.predict_OvR(X)\n",
    "print u\"预测准确度为：%f%%\"%np.mean(np.float64(y_pred == y.reshape(1,-1))*100)"
   ]
  },
  {
   "cell_type": "code",
   "execution_count": 18,
   "metadata": {},
   "outputs": [
    {
     "name": "stdout",
     "output_type": "stream",
     "text": [
      "预测准确度为：91.660000%\n"
     ]
    }
   ],
   "source": [
    "lr_ovr = myLogisticRegression(eta=0.8, n_iter=400).fit_OvR(X, y)\n",
    "y_pred = lr_ovr.predict_OvR(X)\n",
    "print u\"预测准确度为：%f%%\"%np.mean(np.float64(y_pred == y.reshape(1,-1))*100)"
   ]
  },
  {
   "cell_type": "code",
   "execution_count": 20,
   "metadata": {},
   "outputs": [
    {
     "name": "stdout",
     "output_type": "stream",
     "text": [
      "预测准确度为：10.000000%\n"
     ]
    }
   ],
   "source": [
    "lr_ovr = myLogisticRegression(eta=9, n_iter=400).fit_OvR(X, y)\n",
    "y_pred = lr_ovr.predict_OvR(X)\n",
    "print u\"预测准确度为：%f%%\"%np.mean(np.float64(y_pred == y.reshape(1,-1))*100)"
   ]
  },
  {
   "cell_type": "code",
   "execution_count": 19,
   "metadata": {},
   "outputs": [
    {
     "name": "stdout",
     "output_type": "stream",
     "text": [
      "预测准确度为：10.000000%\n"
     ]
    }
   ],
   "source": [
    "lr_ovr = myLogisticRegression(eta=1, n_iter=400).fit_OvR(X, y)\n",
    "y_pred = lr_ovr.predict_OvR(X)\n",
    "print u\"预测准确度为：%f%%\"%np.mean(np.float64(y_pred == y.reshape(1,-1))*100)"
   ]
  },
  {
   "cell_type": "code",
   "execution_count": 21,
   "metadata": {},
   "outputs": [
    {
     "name": "stdout",
     "output_type": "stream",
     "text": [
      "预测准确度为：91.420000%\n"
     ]
    }
   ],
   "source": [
    "lr_ovr = myLogisticRegression(eta=0.7, n_iter=400).fit_OvR(X, y)\n",
    "y_pred = lr_ovr.predict_OvR(X)\n",
    "print u\"预测准确度为：%f%%\"%np.mean(np.float64(y_pred == y.reshape(1,-1))*100)"
   ]
  },
  {
   "cell_type": "markdown",
   "metadata": {},
   "source": [
    "结论，可以看到学习率为0.8是训练误差最小"
   ]
  },
  {
   "cell_type": "markdown",
   "metadata": {},
   "source": [
    "## 使用sklearn进行多分类"
   ]
  },
  {
   "cell_type": "code",
   "execution_count": 40,
   "metadata": {},
   "outputs": [
    {
     "name": "stdout",
     "output_type": "stream",
     "text": [
      "预测准确度为：94.380000%\n"
     ]
    }
   ],
   "source": [
    "model = LogisticRegression()\n",
    "model.fit(X, y) # 拟合\n",
    "predict = model.predict(X) #预测\n",
    "print u\"预测准确度为：%f%%\"%np.mean(np.float64(predict == y)*100)"
   ]
  },
  {
   "cell_type": "code",
   "execution_count": null,
   "metadata": {
    "collapsed": true
   },
   "outputs": [],
   "source": []
  }
 ],
 "metadata": {
  "kernelspec": {
   "display_name": "Python 2",
   "language": "python",
   "name": "python2"
  },
  "language_info": {
   "codemirror_mode": {
    "name": "ipython",
    "version": 2
   },
   "file_extension": ".py",
   "mimetype": "text/x-python",
   "name": "python",
   "nbconvert_exporter": "python",
   "pygments_lexer": "ipython2",
   "version": "2.7.13"
  }
 },
 "nbformat": 4,
 "nbformat_minor": 2
}
